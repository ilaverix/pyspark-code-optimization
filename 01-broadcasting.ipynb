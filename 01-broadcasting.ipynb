{
 "cells": [
  {
   "cell_type": "code",
   "execution_count": null,
   "id": "b688098e-e2b9-4edd-ba97-32bf511efbbf",
   "metadata": {},
   "outputs": [],
   "source": [
    "\n",
    "from pyspark import SparkContext,SparkConf\n",
    "# Start the spark context using the SparkConf object named `conf` the extension created in your kernel.\n",
    "#conf = SparkConf()\n",
    "sc=SparkContext.getOrCreate(conf=conf)"
   ]
  },
  {
   "cell_type": "code",
   "execution_count": null,
   "id": "ef6bcb14-e592-457f-8c40-96dce9e2d2df",
   "metadata": {},
   "outputs": [],
   "source": [
    "from pyspark.sql import SparkSession\n",
    "\n",
    "spark = SparkSession.builder.getOrCreate()"
   ]
  },
  {
   "cell_type": "code",
   "execution_count": null,
   "id": "9d673087-5569-4241-9141-1728129109cb",
   "metadata": {},
   "outputs": [],
   "source": [
    "df_json=spark.read.format(\"json\").load(\"/home/jovyan/data/datos.json\")"
   ]
  },
  {
   "cell_type": "code",
   "execution_count": null,
   "id": "e52223d0-d396-4970-8242-3db893583810",
   "metadata": {},
   "outputs": [],
   "source": [
    "df_json.columns"
   ]
  },
  {
   "cell_type": "code",
   "execution_count": null,
   "id": "a0d2e2ff-c32a-4f9e-86bb-4dff26455f6b",
   "metadata": {},
   "outputs": [],
   "source": [
    "spark.sql(\"\"\"\n",
    "create schema if not exists pruebas\n",
    "location '/home/jovyan/data-tables/pruebas'\n",
    "\n",
    "\n",
    "\n",
    "\"\"\")"
   ]
  },
  {
   "cell_type": "code",
   "execution_count": null,
   "id": "4459eafd-ed7d-447b-b767-81edc5342484",
   "metadata": {},
   "outputs": [],
   "source": [
    "spark.sql(\"\"\"\n",
    "create external table if not exists pruebas.datos_aemet\n",
    "(\n",
    " altitud STRING,\n",
    " dir STRING,\n",
    " fecha STRING,\n",
    " horaPresMax STRING,\n",
    " horaPresMin STRING,\n",
    " horaracha STRING,\n",
    " horatmax STRING,\n",
    " horatmin STRING,\n",
    " indicativo STRING,\n",
    " nombre STRING,\n",
    " prec STRING,\n",
    " presMax STRING,\n",
    " presMin STRING,\n",
    " provincia STRING,\n",
    " racha STRING,\n",
    " sol STRING,\n",
    " tmax STRING,\n",
    " tmed STRING,\n",
    " tmin STRING,\n",
    " velmedia STRING\n",
    ") \n",
    "USING parquet\n",
    "location '/home/jovyan/data-tables/pruebas/datos_aemet';\n",
    "\n",
    "\"\"\")"
   ]
  },
  {
   "cell_type": "code",
   "execution_count": null,
   "id": "3f793163-484e-448a-b881-c358419772bc",
   "metadata": {},
   "outputs": [],
   "source": [
    "spark.sql(\"\"\"\n",
    "create external table if not exists pruebas.datos_aemet_bis\n",
    "(\n",
    " altitud STRING,\n",
    " dir STRING,\n",
    " fecha STRING,\n",
    " horaPresMax STRING,\n",
    " horaPresMin STRING,\n",
    " horaracha STRING,\n",
    " horatmax STRING,\n",
    " horatmin STRING,\n",
    " indicativo STRING,\n",
    " nombre STRING,\n",
    " prec STRING,\n",
    " presMax STRING,\n",
    " presMin STRING,\n",
    " provincia STRING,\n",
    " racha STRING,\n",
    " sol STRING,\n",
    " tmax STRING,\n",
    " tmed STRING,\n",
    " tmin STRING,\n",
    " velmedia STRING\n",
    ") \n",
    "USING parquet\n",
    "location '/home/jovyan/data-tables/pruebas/datos_aemet_bis';\n",
    "\n",
    "\"\"\")"
   ]
  },
  {
   "cell_type": "code",
   "execution_count": null,
   "id": "3915bd4e-48ee-45ad-9232-1ecbba1e4e5d",
   "metadata": {},
   "outputs": [],
   "source": [
    "spark.sql(\"\"\"\n",
    "create external table if not exists pruebas.estaciones\n",
    "(\n",
    " nombre STRING\n",
    ") \n",
    "USING parquet\n",
    "location '/home/jovyan/data-tables/pruebas/estaciones';\n",
    "\"\"\")"
   ]
  },
  {
   "cell_type": "code",
   "execution_count": null,
   "id": "43476601-f3ce-417a-9ddd-52ce5cb0980b",
   "metadata": {},
   "outputs": [],
   "source": [
    "df_json.write.mode('overwrite').saveAsTable(\"pruebas.datos_aemet\")"
   ]
  },
  {
   "cell_type": "code",
   "execution_count": null,
   "id": "eadaaad1-56cb-4f66-bcdc-915480609935",
   "metadata": {},
   "outputs": [],
   "source": [
    "df_json.write.mode('overwrite').saveAsTable(\"pruebas.datos_aemet_bis\")"
   ]
  },
  {
   "cell_type": "code",
   "execution_count": null,
   "id": "7929e10d-1ab6-4d99-b266-d2d43b6a1396",
   "metadata": {},
   "outputs": [],
   "source": [
    "df_json_nombre=spark.sql(\"\"\"\n",
    "select distinct nombre from pruebas.datos_aemet\n",
    "\"\"\")"
   ]
  },
  {
   "cell_type": "code",
   "execution_count": null,
   "id": "33a6fb56-54a6-4aed-b33b-4ba853eaf1cc",
   "metadata": {},
   "outputs": [],
   "source": [
    "df_json_nombre.write.mode('overwrite').saveAsTable(\"pruebas.estaciones\")"
   ]
  },
  {
   "cell_type": "code",
   "execution_count": null,
   "id": "df6f472d-fb6f-4ab0-9fe3-7abdd4b1e350",
   "metadata": {},
   "outputs": [],
   "source": [
    "from pyspark.sql.functions import broadcast\n",
    "\n",
    "small_table = spark.sql(\"\"\"select * from pruebas.estaciones\"\"\")\n",
    "large_table_1 = spark.sql(\"\"\"select * from pruebas.datos_aemet\"\"\")\n",
    "result = large_table_1.join(small_table, on=[\"nombre\"])\n",
    "result.show()"
   ]
  },
  {
   "cell_type": "code",
   "execution_count": null,
   "id": "35250ebe-dfea-44a4-99e1-b9e6a5f47fed",
   "metadata": {},
   "outputs": [],
   "source": [
    "from pyspark.sql.functions import broadcast\n",
    "\n",
    "large_table_2 = spark.sql(\"\"\"select * from pruebas.datos_aemet\"\"\")\n",
    "result = large_table_2.join(small_table, on=[\"nombre\"])\n",
    "result.show()"
   ]
  },
  {
   "cell_type": "code",
   "execution_count": null,
   "id": "6c5a9eb8-da32-42c3-b0f6-17185b1bb2cc",
   "metadata": {},
   "outputs": [],
   "source": [
    "from pyspark.sql.functions import broadcast\n",
    "\n",
    "\n",
    "result = large_table_2.join(broadcast(small_table), on=[\"nombre\"])\n",
    "result.show()"
   ]
  },
  {
   "cell_type": "code",
   "execution_count": null,
   "id": "f236f72a-0bcb-44d2-9f9f-5164574d96d0",
   "metadata": {},
   "outputs": [],
   "source": [
    "from pyspark.sql.functions import broadcast\n",
    "\n",
    "#small_table = spark.sql(\"\"\"select * from pruebas.estaciones\"\"\")\n",
    "large_table_4 = spark.sql(\"\"\"select * from pruebas.datos_aemet_bis\"\"\")\n",
    "result = large_table_4.join(small_table, on=[\"nombre\"])\n",
    "result.show()"
   ]
  },
  {
   "cell_type": "code",
   "execution_count": null,
   "id": "48a33a59-c392-4943-9326-27ee962632be",
   "metadata": {},
   "outputs": [],
   "source": [
    "from pyspark.sql.functions import broadcast\n",
    "\n",
    "#small_table = spark.sql(\"\"\"select * from pruebas.estaciones\"\"\")\n",
    "large_table_1 = spark.sql(\"\"\"select * from pruebas.datos_aemet\"\"\")\n",
    "result = large_table_1.join(small_table, on=[\"nombre\"])\n",
    "result.show()"
   ]
  },
  {
   "cell_type": "code",
   "execution_count": null,
   "id": "945013fa-1511-42ed-8a0e-a60201e8c0f6",
   "metadata": {},
   "outputs": [],
   "source": [
    "df_json.coalesce(1).write.mode('overwrite').option(\"header\",True).csv(\"/home/jovyan/data/all\")"
   ]
  },
  {
   "cell_type": "code",
   "execution_count": null,
   "id": "5dd96ab9-0046-498c-9321-b75283ad8b42",
   "metadata": {},
   "outputs": [],
   "source": [
    "df_json.coalesce(1).write.mode('overwrite').option(\"header\",True).csv(\"/home/jovyan/data/cruce/\")"
   ]
  }
 ],
 "metadata": {
  "kernelspec": {
   "display_name": "Python 3 (ipykernel)",
   "language": "python",
   "name": "python3"
  },
  "language_info": {
   "codemirror_mode": {
    "name": "ipython",
    "version": 3
   },
   "file_extension": ".py",
   "mimetype": "text/x-python",
   "name": "python",
   "nbconvert_exporter": "python",
   "pygments_lexer": "ipython3",
   "version": "3.11.6"
  }
 },
 "nbformat": 4,
 "nbformat_minor": 5
}
