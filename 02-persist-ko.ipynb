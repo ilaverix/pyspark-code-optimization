{
 "cells": [
  {
   "cell_type": "code",
   "execution_count": 1,
   "id": "dfb68b5c-90b0-486b-9435-f87d1455b466",
   "metadata": {
    "execution": {
     "iopub.execute_input": "2024-02-06T22:20:16.879134Z",
     "iopub.status.busy": "2024-02-06T22:20:16.877049Z",
     "iopub.status.idle": "2024-02-06T22:20:22.961046Z",
     "shell.execute_reply": "2024-02-06T22:20:22.959248Z",
     "shell.execute_reply.started": "2024-02-06T22:20:16.879066Z"
    }
   },
   "outputs": [],
   "source": [
    "from pyspark import SparkContext,SparkConf\n",
    "# Start the spark context using the SparkConf object named `conf` the extension created in your kernel.\n",
    "#conf = SparkConf()\n",
    "sc=SparkContext.getOrCreate(conf=conf)"
   ]
  },
  {
   "cell_type": "code",
   "execution_count": 2,
   "id": "20e771ff-13ca-4571-b5a8-095791573909",
   "metadata": {
    "execution": {
     "iopub.execute_input": "2024-02-06T22:20:22.965171Z",
     "iopub.status.busy": "2024-02-06T22:20:22.964015Z",
     "iopub.status.idle": "2024-02-06T22:20:23.306392Z",
     "shell.execute_reply": "2024-02-06T22:20:23.304892Z",
     "shell.execute_reply.started": "2024-02-06T22:20:22.965092Z"
    }
   },
   "outputs": [],
   "source": [
    "from pyspark.sql import SparkSession\n",
    "\n",
    "spark = SparkSession.builder.getOrCreate()"
   ]
  },
  {
   "cell_type": "code",
   "execution_count": 3,
   "id": "4a418cef-32dc-4eda-b84a-eeca7f29996a",
   "metadata": {
    "execution": {
     "iopub.execute_input": "2024-02-06T22:20:23.308274Z",
     "iopub.status.busy": "2024-02-06T22:20:23.307890Z",
     "iopub.status.idle": "2024-02-06T22:21:51.964735Z",
     "shell.execute_reply": "2024-02-06T22:21:51.962482Z",
     "shell.execute_reply.started": "2024-02-06T22:20:23.308243Z"
    }
   },
   "outputs": [],
   "source": [
    "df_json=spark.read.format(\"json\").load(\"/home/jovyan/data/datos.json\")"
   ]
  },
  {
   "cell_type": "code",
   "execution_count": 4,
   "id": "7aed13fd-7b01-4153-8723-891353f03b7b",
   "metadata": {
    "execution": {
     "iopub.execute_input": "2024-02-06T22:21:51.969420Z",
     "iopub.status.busy": "2024-02-06T22:21:51.968773Z",
     "iopub.status.idle": "2024-02-06T22:21:53.001666Z",
     "shell.execute_reply": "2024-02-06T22:21:52.999986Z",
     "shell.execute_reply.started": "2024-02-06T22:21:51.969364Z"
    }
   },
   "outputs": [
    {
     "name": "stdout",
     "output_type": "stream",
     "text": [
      "+-------+----+----------+-----------+-----------+---------+--------+--------+----------+--------------------+----+-------+-------+--------------------+-----+----+----+----+----+--------+\n",
      "|altitud| dir|     fecha|horaPresMax|horaPresMin|horaracha|horatmax|horatmin|indicativo|              nombre|prec|presMax|presMin|           provincia|racha| sol|tmax|tmed|tmin|velmedia|\n",
      "+-------+----+----------+-----------+-----------+---------+--------+--------+----------+--------------------+----+-------+-------+--------------------+-----+----+----+----+----+--------+\n",
      "|    540|NULL|1920-01-01|       NULL|       NULL|     NULL|    NULL|    NULL|      3259|   TOLEDO, LORENZANA| 0,5|   NULL|   NULL|              TOLEDO| NULL|NULL|14,0|12,0|10,0|    NULL|\n",
      "|     50|NULL|1920-01-01|       NULL|       NULL|     NULL|   13:53|   07:12|     9981A|ESTACIÓN DE TORTO...| 8,8|   NULL|   NULL|           TARRAGONA| NULL|NULL|16,6|12,3| 8,0|    NULL|\n",
      "|    372|NULL|1920-01-01|       NULL|       NULL|     NULL|    NULL|    NULL|     3365A|TALAVERA DE LA REINA|NULL|   NULL|   NULL|              TOLEDO| NULL|NULL|14,0|12,2|10,5|    NULL|\n",
      "|    779|NULL|1920-01-01|       NULL|       NULL|     NULL|    NULL|    NULL|      9390|              DAROCA| 1,8|   NULL|   NULL|            ZARAGOZA| NULL|NULL|12,4|10,2| 8,0|    NULL|\n",
      "|    459|NULL|1920-01-01|       NULL|       NULL|     NULL|    NULL|    NULL|      3469|     CÁCERES, CIUDAD| 9,0|   NULL|   NULL|             CACERES| NULL|NULL|13,0|10,7| 8,4|    NULL|\n",
      "|    627|NULL|1920-01-01|       NULL|       NULL|     NULL|    NULL|    NULL|     4121C|CIUDAD REAL, INST...| 1,7|   NULL|   NULL|         CIUDAD REAL| NULL|NULL|13,4|10,2| 7,0|    NULL|\n",
      "|     17|NULL|1920-01-01|       NULL|       NULL|     NULL|    NULL|    NULL|      4605|              HUELVA| 2,1|   NULL|   NULL|              HUELVA| NULL|NULL|18,0|12,9| 7,8|    NULL|\n",
      "|     23|NULL|1920-01-01|       NULL|       NULL|     NULL|    NULL|    NULL|      8501|CASTELLÓ DE LA PLANA| 0,0|   NULL|   NULL|           CASTELLON| NULL|NULL|21,7|15,8|10,0|    NULL|\n",
      "|    667|NULL|1920-01-01|         00|         15|     NULL|   10:30|   23:59|      3195|      MADRID, RETIRO| 0,0|  934,6|  925,3|              MADRID| NULL| 3,5|11,9|10,4| 8,8|    NULL|\n",
      "|     95|NULL|1920-01-01|       NULL|       NULL|     NULL|    NULL|    NULL|     0370B|GIRONA, ANTIC INS...| 1,4|   NULL|   NULL|              GIRONA| NULL|NULL|12,2|10,1| 8,0|    NULL|\n",
      "|    408|NULL|1920-01-01|       NULL|       NULL|     NULL|    NULL|    NULL|     0200E|    BARCELONA, FABRA| 3,5|   NULL|   NULL|           BARCELONA| NULL|NULL|NULL|NULL|NULL|    NULL|\n",
      "|   2369|NULL|1920-01-01|       NULL|       NULL|     NULL|   10:00|   23:59|     C430E|               IZAÑA| 0,0|   NULL|   NULL|STA. CRUZ DE TENE...| NULL|10,0|10,7| 7,4| 4,0|     8,9|\n",
      "|    540|NULL|1920-01-02|       NULL|       NULL|     NULL|    NULL|    NULL|      3259|   TOLEDO, LORENZANA| 0,0|   NULL|   NULL|              TOLEDO| NULL|NULL|10,6| 7,8| 5,0|    NULL|\n",
      "|     50|NULL|1920-01-02|       NULL|       NULL|     NULL|   00:03|   22:52|     9981A|ESTACIÓN DE TORTO...| 0,0|   NULL|   NULL|           TARRAGONA| NULL|NULL|12,2| 9,6| 6,9|    NULL|\n",
      "|    372|NULL|1920-01-02|       NULL|       NULL|     NULL|    NULL|    NULL|     3365A|TALAVERA DE LA REINA|NULL|   NULL|   NULL|              TOLEDO| NULL|NULL|13,5| 8,0| 2,5|    NULL|\n",
      "|    779|NULL|1920-01-02|       NULL|       NULL|     NULL|    NULL|    NULL|      9390|              DAROCA| 0,0|   NULL|   NULL|            ZARAGOZA| NULL|NULL| 6,4| 4,4| 2,4|    NULL|\n",
      "|    459|NULL|1920-01-02|       NULL|       NULL|     NULL|    NULL|    NULL|      3469|     CÁCERES, CIUDAD| 1,0|   NULL|   NULL|             CACERES| NULL|NULL|10,2| 6,4| 2,6|    NULL|\n",
      "|    627|NULL|1920-01-02|       NULL|       NULL|     NULL|    NULL|    NULL|     4121C|CIUDAD REAL, INST...| 1,8|   NULL|   NULL|         CIUDAD REAL| NULL|NULL| 8,8| 5,0| 1,2|    NULL|\n",
      "|     17|NULL|1920-01-02|       NULL|       NULL|     NULL|    NULL|    NULL|      4605|              HUELVA| 0,0|   NULL|   NULL|              HUELVA| NULL|NULL|15,5|11,8| 8,0|    NULL|\n",
      "|     23|NULL|1920-01-02|       NULL|       NULL|     NULL|    NULL|    NULL|      8501|CASTELLÓ DE LA PLANA| 0,0|   NULL|   NULL|           CASTELLON| NULL|NULL|20,4|12,7| 5,0|    NULL|\n",
      "+-------+----+----------+-----------+-----------+---------+--------+--------+----------+--------------------+----+-------+-------+--------------------+-----+----+----+----+----+--------+\n",
      "only showing top 20 rows\n",
      "\n"
     ]
    }
   ],
   "source": [
    "df_json.show()"
   ]
  },
  {
   "cell_type": "code",
   "execution_count": 9,
   "id": "62ece3ec-aeea-4e4b-a87e-8a04524c9e98",
   "metadata": {
    "execution": {
     "iopub.execute_input": "2024-02-06T22:28:11.543123Z",
     "iopub.status.busy": "2024-02-06T22:28:11.541032Z",
     "iopub.status.idle": "2024-02-06T22:28:12.440720Z",
     "shell.execute_reply": "2024-02-06T22:28:12.437953Z",
     "shell.execute_reply.started": "2024-02-06T22:28:11.543070Z"
    }
   },
   "outputs": [
    {
     "name": "stdout",
     "output_type": "stream",
     "text": [
      "+-------+----+----------+-----------+-----------+---------+--------+--------+----------+--------------------+----+-------+-------+--------------------+-----+----+----+----+----+--------+\n",
      "|altitud| dir|     fecha|horaPresMax|horaPresMin|horaracha|horatmax|horatmin|indicativo|              nombre|prec|presMax|presMin|           provincia|racha| sol|tmax|tmed|tmin|velmedia|\n",
      "+-------+----+----------+-----------+-----------+---------+--------+--------+----------+--------------------+----+-------+-------+--------------------+-----+----+----+----+----+--------+\n",
      "|    540|NULL|1920-01-01|       NULL|       NULL|     NULL|    NULL|    NULL|      3259|   TOLEDO, LORENZANA| 0,5|   NULL|   NULL|              TOLEDO| NULL|NULL|14,0|12,0|10,0|    NULL|\n",
      "|    372|NULL|1920-01-01|       NULL|       NULL|     NULL|    NULL|    NULL|     3365A|TALAVERA DE LA REINA|NULL|   NULL|   NULL|              TOLEDO| NULL|NULL|14,0|12,2|10,5|    NULL|\n",
      "|    779|NULL|1920-01-01|       NULL|       NULL|     NULL|    NULL|    NULL|      9390|              DAROCA| 1,8|   NULL|   NULL|            ZARAGOZA| NULL|NULL|12,4|10,2| 8,0|    NULL|\n",
      "|    459|NULL|1920-01-01|       NULL|       NULL|     NULL|    NULL|    NULL|      3469|     CÁCERES, CIUDAD| 9,0|   NULL|   NULL|             CACERES| NULL|NULL|13,0|10,7| 8,4|    NULL|\n",
      "|    627|NULL|1920-01-01|       NULL|       NULL|     NULL|    NULL|    NULL|     4121C|CIUDAD REAL, INST...| 1,7|   NULL|   NULL|         CIUDAD REAL| NULL|NULL|13,4|10,2| 7,0|    NULL|\n",
      "|    667|NULL|1920-01-01|         00|         15|     NULL|   10:30|   23:59|      3195|      MADRID, RETIRO| 0,0|  934,6|  925,3|              MADRID| NULL| 3,5|11,9|10,4| 8,8|    NULL|\n",
      "|    408|NULL|1920-01-01|       NULL|       NULL|     NULL|    NULL|    NULL|     0200E|    BARCELONA, FABRA| 3,5|   NULL|   NULL|           BARCELONA| NULL|NULL|NULL|NULL|NULL|    NULL|\n",
      "|   2369|NULL|1920-01-01|       NULL|       NULL|     NULL|   10:00|   23:59|     C430E|               IZAÑA| 0,0|   NULL|   NULL|STA. CRUZ DE TENE...| NULL|10,0|10,7| 7,4| 4,0|     8,9|\n",
      "|    540|NULL|1920-01-02|       NULL|       NULL|     NULL|    NULL|    NULL|      3259|   TOLEDO, LORENZANA| 0,0|   NULL|   NULL|              TOLEDO| NULL|NULL|10,6| 7,8| 5,0|    NULL|\n",
      "|    372|NULL|1920-01-02|       NULL|       NULL|     NULL|    NULL|    NULL|     3365A|TALAVERA DE LA REINA|NULL|   NULL|   NULL|              TOLEDO| NULL|NULL|13,5| 8,0| 2,5|    NULL|\n",
      "|    779|NULL|1920-01-02|       NULL|       NULL|     NULL|    NULL|    NULL|      9390|              DAROCA| 0,0|   NULL|   NULL|            ZARAGOZA| NULL|NULL| 6,4| 4,4| 2,4|    NULL|\n",
      "|    459|NULL|1920-01-02|       NULL|       NULL|     NULL|    NULL|    NULL|      3469|     CÁCERES, CIUDAD| 1,0|   NULL|   NULL|             CACERES| NULL|NULL|10,2| 6,4| 2,6|    NULL|\n",
      "|    627|NULL|1920-01-02|       NULL|       NULL|     NULL|    NULL|    NULL|     4121C|CIUDAD REAL, INST...| 1,8|   NULL|   NULL|         CIUDAD REAL| NULL|NULL| 8,8| 5,0| 1,2|    NULL|\n",
      "|    667|NULL|1920-01-02|         11|         00|     NULL|   12:30|   06:30|      3195|      MADRID, RETIRO| 0,0|  940,3|  931,9|              MADRID| NULL| 7,4|11,0| 6,8| 2,6|    NULL|\n",
      "|    408|NULL|1920-01-02|       NULL|       NULL|     NULL|    NULL|    NULL|     0200E|    BARCELONA, FABRA| 0,0|   NULL|   NULL|           BARCELONA| NULL|NULL|NULL|NULL|NULL|    NULL|\n",
      "|   2369|NULL|1920-01-02|       NULL|       NULL|     NULL|   12:10|   20:50|     C430E|               IZAÑA| 0,0|   NULL|   NULL|STA. CRUZ DE TENE...| NULL|10,0| 9,6| 5,8| 2,0|    12,8|\n",
      "|    540|NULL|1920-01-03|       NULL|       NULL|     NULL|    NULL|    NULL|      3259|   TOLEDO, LORENZANA| 0,0|   NULL|   NULL|              TOLEDO| NULL|NULL|10,8| 8,8| 6,8|    NULL|\n",
      "|    372|NULL|1920-01-03|       NULL|       NULL|     NULL|    NULL|    NULL|     3365A|TALAVERA DE LA REINA|NULL|   NULL|   NULL|              TOLEDO| NULL|NULL|10,5| 7,8| 5,0|    NULL|\n",
      "|    779|NULL|1920-01-03|       NULL|       NULL|     NULL|    NULL|    NULL|      9390|              DAROCA| 0,0|   NULL|   NULL|            ZARAGOZA| NULL|NULL| 8,4| 4,7| 1,0|    NULL|\n",
      "|    459|NULL|1920-01-03|       NULL|       NULL|     NULL|    NULL|    NULL|      3469|     CÁCERES, CIUDAD| 1,7|   NULL|   NULL|             CACERES| NULL|NULL|10,2| 6,6| 3,0|    NULL|\n",
      "+-------+----+----------+-----------+-----------+---------+--------+--------+----------+--------------------+----+-------+-------+--------------------+-----+----+----+----+----+--------+\n",
      "only showing top 20 rows\n",
      "\n"
     ]
    }
   ],
   "source": [
    "df_filtered = df_json.filter(\"altitud > 100\")\n",
    "df_filtered.show()"
   ]
  },
  {
   "cell_type": "code",
   "execution_count": 10,
   "id": "5f9133bc-f40b-475b-bdc8-ca3793a5dd95",
   "metadata": {
    "execution": {
     "iopub.execute_input": "2024-02-06T22:28:15.970763Z",
     "iopub.status.busy": "2024-02-06T22:28:15.970303Z",
     "iopub.status.idle": "2024-02-06T22:28:16.486777Z",
     "shell.execute_reply": "2024-02-06T22:28:16.484926Z",
     "shell.execute_reply.started": "2024-02-06T22:28:15.970733Z"
    }
   },
   "outputs": [
    {
     "name": "stdout",
     "output_type": "stream",
     "text": [
      "+-------+----+----------+-----------+-----------+---------+--------+--------+----------+--------------------+----+-------+-------+---------+-----+----+----+----+----+--------+\n",
      "|altitud| dir|     fecha|horaPresMax|horaPresMin|horaracha|horatmax|horatmin|indicativo|              nombre|prec|presMax|presMin|provincia|racha| sol|tmax|tmed|tmin|velmedia|\n",
      "+-------+----+----------+-----------+-----------+---------+--------+--------+----------+--------------------+----+-------+-------+---------+-----+----+----+----+----+--------+\n",
      "|     50|NULL|1920-01-01|       NULL|       NULL|     NULL|   13:53|   07:12|     9981A|ESTACIÓN DE TORTO...| 8,8|   NULL|   NULL|TARRAGONA| NULL|NULL|16,6|12,3| 8,0|    NULL|\n",
      "|     17|NULL|1920-01-01|       NULL|       NULL|     NULL|    NULL|    NULL|      4605|              HUELVA| 2,1|   NULL|   NULL|   HUELVA| NULL|NULL|18,0|12,9| 7,8|    NULL|\n",
      "|     23|NULL|1920-01-01|       NULL|       NULL|     NULL|    NULL|    NULL|      8501|CASTELLÓ DE LA PLANA| 0,0|   NULL|   NULL|CASTELLON| NULL|NULL|21,7|15,8|10,0|    NULL|\n",
      "|     95|NULL|1920-01-01|       NULL|       NULL|     NULL|    NULL|    NULL|     0370B|GIRONA, ANTIC INS...| 1,4|   NULL|   NULL|   GIRONA| NULL|NULL|12,2|10,1| 8,0|    NULL|\n",
      "|     50|NULL|1920-01-02|       NULL|       NULL|     NULL|   00:03|   22:52|     9981A|ESTACIÓN DE TORTO...| 0,0|   NULL|   NULL|TARRAGONA| NULL|NULL|12,2| 9,6| 6,9|    NULL|\n",
      "|     17|NULL|1920-01-02|       NULL|       NULL|     NULL|    NULL|    NULL|      4605|              HUELVA| 0,0|   NULL|   NULL|   HUELVA| NULL|NULL|15,5|11,8| 8,0|    NULL|\n",
      "|     23|NULL|1920-01-02|       NULL|       NULL|     NULL|    NULL|    NULL|      8501|CASTELLÓ DE LA PLANA| 0,0|   NULL|   NULL|CASTELLON| NULL|NULL|20,4|12,7| 5,0|    NULL|\n",
      "|     95|NULL|1920-01-02|       NULL|       NULL|     NULL|    NULL|    NULL|     0370B|GIRONA, ANTIC INS...| 0,5|   NULL|   NULL|   GIRONA| NULL|NULL|14,6| 9,6| 4,6|    NULL|\n",
      "|     50|NULL|1920-01-03|       NULL|       NULL|     NULL|   15:47|   00:43|     9981A|ESTACIÓN DE TORTO...| 1,3|   NULL|   NULL|TARRAGONA| NULL|NULL|15,5|11,4| 7,2|    NULL|\n",
      "|     17|NULL|1920-01-03|       NULL|       NULL|     NULL|    NULL|    NULL|      4605|              HUELVA| 0,3|   NULL|   NULL|   HUELVA| NULL|NULL|15,6|11,8| 8,0|    NULL|\n",
      "|     23|NULL|1920-01-03|       NULL|       NULL|     NULL|    NULL|    NULL|      8501|CASTELLÓ DE LA PLANA| 0,0|   NULL|   NULL|CASTELLON| NULL|NULL|17,6|12,9| 8,2|    NULL|\n",
      "|     95|NULL|1920-01-03|       NULL|       NULL|     NULL|    NULL|    NULL|     0370B|GIRONA, ANTIC INS...| 0,0|   NULL|   NULL|   GIRONA| NULL|NULL|11,0| 4,6|-1,8|    NULL|\n",
      "|     50|NULL|1920-01-04|       NULL|       NULL|     NULL|   17:34|   07:29|     9981A|ESTACIÓN DE TORTO...| 1,7|   NULL|   NULL|TARRAGONA| NULL|NULL|10,4| 8,2| 6,0|    NULL|\n",
      "|     17|NULL|1920-01-04|       NULL|       NULL|     NULL|    NULL|    NULL|      4605|              HUELVA| 5,7|   NULL|   NULL|   HUELVA| NULL|NULL|14,0|11,0| 8,0|    NULL|\n",
      "|     23|NULL|1920-01-04|       NULL|       NULL|     NULL|    NULL|    NULL|      8501|CASTELLÓ DE LA PLANA| 6,0|   NULL|   NULL|CASTELLON| NULL|NULL|17,6|11,3| 5,0|    NULL|\n",
      "|     95|NULL|1920-01-04|       NULL|       NULL|     NULL|    NULL|    NULL|     0370B|GIRONA, ANTIC INS...| 0,0|   NULL|   NULL|   GIRONA| NULL|NULL| 7,4| 4,1| 0,8|    NULL|\n",
      "|     50|NULL|1920-01-05|       NULL|       NULL|     NULL|   00:36|   18:57|     9981A|ESTACIÓN DE TORTO...| 0,5|   NULL|   NULL|TARRAGONA| NULL|NULL| 9,1| 6,8| 4,5|    NULL|\n",
      "|     17|NULL|1920-01-05|       NULL|       NULL|     NULL|    NULL|    NULL|      4605|              HUELVA| 0,0|   NULL|   NULL|   HUELVA| NULL|NULL|14,0| 9,5| 5,0|    NULL|\n",
      "|     23|NULL|1920-01-05|       NULL|       NULL|     NULL|    NULL|    NULL|      8501|CASTELLÓ DE LA PLANA| 0,0|   NULL|   NULL|CASTELLON| NULL|NULL|15,0|11,7| 8,4|    NULL|\n",
      "|     95|NULL|1920-01-05|       NULL|       NULL|     NULL|    NULL|    NULL|     0370B|GIRONA, ANTIC INS...|42,8|   NULL|   NULL|   GIRONA| NULL|NULL| 7,2| 4,0| 0,8|    NULL|\n",
      "+-------+----+----------+-----------+-----------+---------+--------+--------+----------+--------------------+----+-------+-------+---------+-----+----+----+----+----+--------+\n",
      "only showing top 20 rows\n",
      "\n"
     ]
    }
   ],
   "source": [
    "df_filtered2 = df_json.filter(\"altitud < 100\")\n",
    "df_filtered2.show()"
   ]
  },
  {
   "cell_type": "code",
   "execution_count": null,
   "id": "58f2bc5f-a550-4e69-86ea-93d9017ec4e1",
   "metadata": {},
   "outputs": [],
   "source": []
  }
 ],
 "metadata": {
  "kernelspec": {
   "display_name": "Python 3 (ipykernel)",
   "language": "python",
   "name": "python3"
  },
  "language_info": {
   "codemirror_mode": {
    "name": "ipython",
    "version": 3
   },
   "file_extension": ".py",
   "mimetype": "text/x-python",
   "name": "python",
   "nbconvert_exporter": "python",
   "pygments_lexer": "ipython3",
   "version": "3.11.6"
  }
 },
 "nbformat": 4,
 "nbformat_minor": 5
}
