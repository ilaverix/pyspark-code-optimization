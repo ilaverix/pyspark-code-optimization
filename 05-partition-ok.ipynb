{
 "cells": [
  {
   "cell_type": "code",
   "execution_count": 1,
   "id": "dfb68b5c-90b0-486b-9435-f87d1455b466",
   "metadata": {},
   "outputs": [
    {
     "ename": "NameError",
     "evalue": "name 'conf' is not defined",
     "output_type": "error",
     "traceback": [
      "\u001b[0;31m---------------------------------------------------------------------------\u001b[0m",
      "\u001b[0;31mNameError\u001b[0m                                 Traceback (most recent call last)",
      "Cell \u001b[0;32mIn[1], line 4\u001b[0m\n\u001b[1;32m      1\u001b[0m \u001b[38;5;28;01mfrom\u001b[39;00m \u001b[38;5;21;01mpyspark\u001b[39;00m \u001b[38;5;28;01mimport\u001b[39;00m SparkContext,SparkConf\n\u001b[1;32m      2\u001b[0m \u001b[38;5;66;03m# Start the spark context using the SparkConf object named `conf` the extension created in your kernel.\u001b[39;00m\n\u001b[1;32m      3\u001b[0m \u001b[38;5;66;03m#conf = SparkConf()\u001b[39;00m\n\u001b[0;32m----> 4\u001b[0m sc\u001b[38;5;241m=\u001b[39mSparkContext\u001b[38;5;241m.\u001b[39mgetOrCreate(conf\u001b[38;5;241m=\u001b[39m\u001b[43mconf\u001b[49m)\n",
      "\u001b[0;31mNameError\u001b[0m: name 'conf' is not defined"
     ]
    }
   ],
   "source": [
    "from pyspark import SparkContext,SparkConf\n",
    "# Start the spark context using the SparkConf object named `conf` the extension created in your kernel.\n",
    "#conf = SparkConf()\n",
    "sc=SparkContext.getOrCreate(conf=conf)"
   ]
  },
  {
   "cell_type": "code",
   "execution_count": null,
   "id": "20e771ff-13ca-4571-b5a8-095791573909",
   "metadata": {},
   "outputs": [],
   "source": [
    "from pyspark.sql import SparkSession\n",
    "\n",
    "spark = SparkSession.builder.getOrCreate()"
   ]
  },
  {
   "cell_type": "code",
   "execution_count": null,
   "id": "4a418cef-32dc-4eda-b84a-eeca7f29996a",
   "metadata": {},
   "outputs": [],
   "source": [
    "df_json=spark.read.format(\"json\").load(\"/home/jovyan/data/datos.json\")"
   ]
  },
  {
   "cell_type": "code",
   "execution_count": null,
   "id": "7aed13fd-7b01-4153-8723-891353f03b7b",
   "metadata": {},
   "outputs": [],
   "source": [
    "df_json.show()"
   ]
  },
  {
   "cell_type": "code",
   "execution_count": null,
   "id": "cba730d2-7071-4e51-acfd-19938c6e1b4b",
   "metadata": {},
   "outputs": [],
   "source": [
    "result = df_json.repartition(8).groupBy(\"nombre\").count()"
   ]
  },
  {
   "cell_type": "code",
   "execution_count": null,
   "id": "090aca47-fdb4-429e-b7f5-763e3faea630",
   "metadata": {},
   "outputs": [],
   "source": [
    "result.show()"
   ]
  }
 ],
 "metadata": {
  "kernelspec": {
   "display_name": "Python 3 (ipykernel)",
   "language": "python",
   "name": "python3"
  },
  "language_info": {
   "codemirror_mode": {
    "name": "ipython",
    "version": 3
   },
   "file_extension": ".py",
   "mimetype": "text/x-python",
   "name": "python",
   "nbconvert_exporter": "python",
   "pygments_lexer": "ipython3",
   "version": "3.11.6"
  }
 },
 "nbformat": 4,
 "nbformat_minor": 5
}
