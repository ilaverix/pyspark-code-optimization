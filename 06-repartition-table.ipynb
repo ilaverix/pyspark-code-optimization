{
 "cells": [
  {
   "cell_type": "code",
   "execution_count": 1,
   "id": "dfb68b5c-90b0-486b-9435-f87d1455b466",
   "metadata": {
    "execution": {
     "iopub.execute_input": "2024-02-06T19:21:15.608218Z",
     "iopub.status.busy": "2024-02-06T19:21:15.606180Z",
     "iopub.status.idle": "2024-02-06T19:21:20.684072Z",
     "shell.execute_reply": "2024-02-06T19:21:20.682616Z",
     "shell.execute_reply.started": "2024-02-06T19:21:15.608138Z"
    }
   },
   "outputs": [],
   "source": [
    "from pyspark import SparkContext,SparkConf\n",
    "# Start the spark context using the SparkConf object named `conf` the extension created in your kernel.\n",
    "#conf = SparkConf()\n",
    "sc=SparkContext.getOrCreate(conf=conf)"
   ]
  },
  {
   "cell_type": "code",
   "execution_count": 2,
   "id": "20e771ff-13ca-4571-b5a8-095791573909",
   "metadata": {
    "execution": {
     "iopub.execute_input": "2024-02-06T19:21:20.688646Z",
     "iopub.status.busy": "2024-02-06T19:21:20.687102Z",
     "iopub.status.idle": "2024-02-06T19:21:20.944101Z",
     "shell.execute_reply": "2024-02-06T19:21:20.942183Z",
     "shell.execute_reply.started": "2024-02-06T19:21:20.688568Z"
    }
   },
   "outputs": [],
   "source": [
    "from pyspark.sql import SparkSession\n",
    "\n",
    "spark = SparkSession.builder.getOrCreate()"
   ]
  },
  {
   "cell_type": "code",
   "execution_count": 3,
   "id": "4a418cef-32dc-4eda-b84a-eeca7f29996a",
   "metadata": {
    "execution": {
     "iopub.execute_input": "2024-02-06T19:21:20.947114Z",
     "iopub.status.busy": "2024-02-06T19:21:20.946466Z",
     "iopub.status.idle": "2024-02-06T19:22:38.621379Z",
     "shell.execute_reply": "2024-02-06T19:22:38.619373Z",
     "shell.execute_reply.started": "2024-02-06T19:21:20.947061Z"
    }
   },
   "outputs": [],
   "source": [
    "df_json=spark.read.format(\"json\").load(\"/home/jovyan/data/datos.json\")"
   ]
  },
  {
   "cell_type": "code",
   "execution_count": 4,
   "id": "7aed13fd-7b01-4153-8723-891353f03b7b",
   "metadata": {
    "execution": {
     "iopub.execute_input": "2024-02-06T19:22:38.624510Z",
     "iopub.status.busy": "2024-02-06T19:22:38.623529Z",
     "iopub.status.idle": "2024-02-06T19:22:40.136654Z",
     "shell.execute_reply": "2024-02-06T19:22:40.134621Z",
     "shell.execute_reply.started": "2024-02-06T19:22:38.624456Z"
    }
   },
   "outputs": [
    {
     "name": "stdout",
     "output_type": "stream",
     "text": [
      "+-------+----+----------+-----------+-----------+---------+--------+--------+----------+--------------------+----+-------+-------+--------------------+-----+----+----+----+----+--------+\n",
      "|altitud| dir|     fecha|horaPresMax|horaPresMin|horaracha|horatmax|horatmin|indicativo|              nombre|prec|presMax|presMin|           provincia|racha| sol|tmax|tmed|tmin|velmedia|\n",
      "+-------+----+----------+-----------+-----------+---------+--------+--------+----------+--------------------+----+-------+-------+--------------------+-----+----+----+----+----+--------+\n",
      "|    540|NULL|1920-01-01|       NULL|       NULL|     NULL|    NULL|    NULL|      3259|   TOLEDO, LORENZANA| 0,5|   NULL|   NULL|              TOLEDO| NULL|NULL|14,0|12,0|10,0|    NULL|\n",
      "|     50|NULL|1920-01-01|       NULL|       NULL|     NULL|   13:53|   07:12|     9981A|ESTACIÓN DE TORTO...| 8,8|   NULL|   NULL|           TARRAGONA| NULL|NULL|16,6|12,3| 8,0|    NULL|\n",
      "|    372|NULL|1920-01-01|       NULL|       NULL|     NULL|    NULL|    NULL|     3365A|TALAVERA DE LA REINA|NULL|   NULL|   NULL|              TOLEDO| NULL|NULL|14,0|12,2|10,5|    NULL|\n",
      "|    779|NULL|1920-01-01|       NULL|       NULL|     NULL|    NULL|    NULL|      9390|              DAROCA| 1,8|   NULL|   NULL|            ZARAGOZA| NULL|NULL|12,4|10,2| 8,0|    NULL|\n",
      "|    459|NULL|1920-01-01|       NULL|       NULL|     NULL|    NULL|    NULL|      3469|     CÁCERES, CIUDAD| 9,0|   NULL|   NULL|             CACERES| NULL|NULL|13,0|10,7| 8,4|    NULL|\n",
      "|    627|NULL|1920-01-01|       NULL|       NULL|     NULL|    NULL|    NULL|     4121C|CIUDAD REAL, INST...| 1,7|   NULL|   NULL|         CIUDAD REAL| NULL|NULL|13,4|10,2| 7,0|    NULL|\n",
      "|     17|NULL|1920-01-01|       NULL|       NULL|     NULL|    NULL|    NULL|      4605|              HUELVA| 2,1|   NULL|   NULL|              HUELVA| NULL|NULL|18,0|12,9| 7,8|    NULL|\n",
      "|     23|NULL|1920-01-01|       NULL|       NULL|     NULL|    NULL|    NULL|      8501|CASTELLÓ DE LA PLANA| 0,0|   NULL|   NULL|           CASTELLON| NULL|NULL|21,7|15,8|10,0|    NULL|\n",
      "|    667|NULL|1920-01-01|         00|         15|     NULL|   10:30|   23:59|      3195|      MADRID, RETIRO| 0,0|  934,6|  925,3|              MADRID| NULL| 3,5|11,9|10,4| 8,8|    NULL|\n",
      "|     95|NULL|1920-01-01|       NULL|       NULL|     NULL|    NULL|    NULL|     0370B|GIRONA, ANTIC INS...| 1,4|   NULL|   NULL|              GIRONA| NULL|NULL|12,2|10,1| 8,0|    NULL|\n",
      "|    408|NULL|1920-01-01|       NULL|       NULL|     NULL|    NULL|    NULL|     0200E|    BARCELONA, FABRA| 3,5|   NULL|   NULL|           BARCELONA| NULL|NULL|NULL|NULL|NULL|    NULL|\n",
      "|   2369|NULL|1920-01-01|       NULL|       NULL|     NULL|   10:00|   23:59|     C430E|               IZAÑA| 0,0|   NULL|   NULL|STA. CRUZ DE TENE...| NULL|10,0|10,7| 7,4| 4,0|     8,9|\n",
      "|    540|NULL|1920-01-02|       NULL|       NULL|     NULL|    NULL|    NULL|      3259|   TOLEDO, LORENZANA| 0,0|   NULL|   NULL|              TOLEDO| NULL|NULL|10,6| 7,8| 5,0|    NULL|\n",
      "|     50|NULL|1920-01-02|       NULL|       NULL|     NULL|   00:03|   22:52|     9981A|ESTACIÓN DE TORTO...| 0,0|   NULL|   NULL|           TARRAGONA| NULL|NULL|12,2| 9,6| 6,9|    NULL|\n",
      "|    372|NULL|1920-01-02|       NULL|       NULL|     NULL|    NULL|    NULL|     3365A|TALAVERA DE LA REINA|NULL|   NULL|   NULL|              TOLEDO| NULL|NULL|13,5| 8,0| 2,5|    NULL|\n",
      "|    779|NULL|1920-01-02|       NULL|       NULL|     NULL|    NULL|    NULL|      9390|              DAROCA| 0,0|   NULL|   NULL|            ZARAGOZA| NULL|NULL| 6,4| 4,4| 2,4|    NULL|\n",
      "|    459|NULL|1920-01-02|       NULL|       NULL|     NULL|    NULL|    NULL|      3469|     CÁCERES, CIUDAD| 1,0|   NULL|   NULL|             CACERES| NULL|NULL|10,2| 6,4| 2,6|    NULL|\n",
      "|    627|NULL|1920-01-02|       NULL|       NULL|     NULL|    NULL|    NULL|     4121C|CIUDAD REAL, INST...| 1,8|   NULL|   NULL|         CIUDAD REAL| NULL|NULL| 8,8| 5,0| 1,2|    NULL|\n",
      "|     17|NULL|1920-01-02|       NULL|       NULL|     NULL|    NULL|    NULL|      4605|              HUELVA| 0,0|   NULL|   NULL|              HUELVA| NULL|NULL|15,5|11,8| 8,0|    NULL|\n",
      "|     23|NULL|1920-01-02|       NULL|       NULL|     NULL|    NULL|    NULL|      8501|CASTELLÓ DE LA PLANA| 0,0|   NULL|   NULL|           CASTELLON| NULL|NULL|20,4|12,7| 5,0|    NULL|\n",
      "+-------+----+----------+-----------+-----------+---------+--------+--------+----------+--------------------+----+-------+-------+--------------------+-----+----+----+----+----+--------+\n",
      "only showing top 20 rows\n",
      "\n"
     ]
    }
   ],
   "source": [
    "df_json.show()"
   ]
  },
  {
   "cell_type": "code",
   "execution_count": 5,
   "id": "0734ac59-a107-420d-bee5-27b3c5cfe17a",
   "metadata": {
    "execution": {
     "iopub.execute_input": "2024-02-06T19:22:40.144248Z",
     "iopub.status.busy": "2024-02-06T19:22:40.143530Z",
     "iopub.status.idle": "2024-02-06T19:22:40.698701Z",
     "shell.execute_reply": "2024-02-06T19:22:40.696651Z",
     "shell.execute_reply.started": "2024-02-06T19:22:40.144195Z"
    }
   },
   "outputs": [
    {
     "data": {
      "text/plain": [
       "DataFrame[]"
      ]
     },
     "execution_count": 5,
     "metadata": {},
     "output_type": "execute_result"
    }
   ],
   "source": [
    "spark.sql(\"\"\"\n",
    "create schema if not exists pruebas\n",
    "location '/home/jovyan/data-tables/pruebas'\n",
    "\n",
    "\n",
    "\n",
    "\"\"\")"
   ]
  },
  {
   "cell_type": "code",
   "execution_count": 6,
   "id": "ea45cc47-be52-44a8-a857-4e54031352db",
   "metadata": {
    "execution": {
     "iopub.execute_input": "2024-02-06T19:22:40.701601Z",
     "iopub.status.busy": "2024-02-06T19:22:40.700957Z",
     "iopub.status.idle": "2024-02-06T19:22:41.015768Z",
     "shell.execute_reply": "2024-02-06T19:22:41.012609Z",
     "shell.execute_reply.started": "2024-02-06T19:22:40.701561Z"
    }
   },
   "outputs": [
    {
     "data": {
      "text/plain": [
       "DataFrame[]"
      ]
     },
     "execution_count": 6,
     "metadata": {},
     "output_type": "execute_result"
    }
   ],
   "source": [
    "spark.sql(\"\"\"\n",
    "create external table if not exists pruebas.datos_aemet\n",
    "(\n",
    " altitud STRING,\n",
    " dir STRING,\n",
    " fecha STRING,\n",
    " horaPresMax STRING,\n",
    " horaPresMin STRING,\n",
    " horaracha STRING,\n",
    " horatmax STRING,\n",
    " horatmin STRING,\n",
    " indicativo STRING,\n",
    " nombre STRING,\n",
    " prec STRING,\n",
    " presMax STRING,\n",
    " presMin STRING,\n",
    " provincia STRING,\n",
    " racha STRING,\n",
    " sol STRING,\n",
    " tmax STRING,\n",
    " tmed STRING,\n",
    " tmin STRING,\n",
    " velmedia STRING\n",
    ") \n",
    "USING parquet\n",
    "location '/home/jovyan/data-tables/pruebas/datos_aemet';\n",
    "\n",
    "\"\"\")"
   ]
  },
  {
   "cell_type": "code",
   "execution_count": 7,
   "id": "7f9d40c8-f95e-41c3-aeae-e8cd012c2d4f",
   "metadata": {
    "execution": {
     "iopub.execute_input": "2024-02-06T19:22:41.020502Z",
     "iopub.status.busy": "2024-02-06T19:22:41.019764Z",
     "iopub.status.idle": "2024-02-06T19:22:41.150156Z",
     "shell.execute_reply": "2024-02-06T19:22:41.147474Z",
     "shell.execute_reply.started": "2024-02-06T19:22:41.020445Z"
    }
   },
   "outputs": [
    {
     "data": {
      "text/plain": [
       "DataFrame[]"
      ]
     },
     "execution_count": 7,
     "metadata": {},
     "output_type": "execute_result"
    }
   ],
   "source": [
    "spark.sql(\"\"\"\n",
    "create external table if not exists pruebas.datos_aemet_bis\n",
    "(\n",
    " altitud STRING,\n",
    " dir STRING,\n",
    " fecha STRING,\n",
    " horaPresMax STRING,\n",
    " horaPresMin STRING,\n",
    " horaracha STRING,\n",
    " horatmax STRING,\n",
    " horatmin STRING,\n",
    " indicativo STRING,\n",
    " nombre STRING,\n",
    " prec STRING,\n",
    " presMax STRING,\n",
    " presMin STRING,\n",
    " provincia STRING,\n",
    " racha STRING,\n",
    " sol STRING,\n",
    " tmax STRING,\n",
    " tmed STRING,\n",
    " tmin STRING,\n",
    " velmedia STRING\n",
    ") \n",
    "USING parquet\n",
    "location '/home/jovyan/data-tables/pruebas/datos_aemet_bis';\n",
    "\n",
    "\"\"\")"
   ]
  },
  {
   "cell_type": "code",
   "execution_count": 8,
   "id": "5e97db0e-0112-4107-9fb3-45bf1f6a2eac",
   "metadata": {
    "execution": {
     "iopub.execute_input": "2024-02-06T19:22:41.155338Z",
     "iopub.status.busy": "2024-02-06T19:22:41.153309Z",
     "iopub.status.idle": "2024-02-06T19:24:17.468244Z",
     "shell.execute_reply": "2024-02-06T19:24:17.466704Z",
     "shell.execute_reply.started": "2024-02-06T19:22:41.155278Z"
    }
   },
   "outputs": [],
   "source": [
    "df_json.write.partitionBy(\"nombre\").mode('overwrite').saveAsTable(\"pruebas.datos_aemet\")"
   ]
  },
  {
   "cell_type": "code",
   "execution_count": 9,
   "id": "160201ed-380e-4d0b-a079-c83a2181fab9",
   "metadata": {
    "execution": {
     "iopub.execute_input": "2024-02-06T19:24:17.471804Z",
     "iopub.status.busy": "2024-02-06T19:24:17.470744Z",
     "iopub.status.idle": "2024-02-06T19:25:24.126170Z",
     "shell.execute_reply": "2024-02-06T19:25:24.124538Z",
     "shell.execute_reply.started": "2024-02-06T19:24:17.471700Z"
    }
   },
   "outputs": [],
   "source": [
    "df_json.write.mode('overwrite').saveAsTable(\"pruebas.datos_aemet_bis\")"
   ]
  },
  {
   "cell_type": "code",
   "execution_count": 16,
   "id": "87218c61-28a0-4536-944d-40d30ae831a1",
   "metadata": {
    "execution": {
     "iopub.execute_input": "2024-02-06T21:21:57.347841Z",
     "iopub.status.busy": "2024-02-06T21:21:57.347395Z",
     "iopub.status.idle": "2024-02-06T21:21:57.734079Z",
     "shell.execute_reply": "2024-02-06T21:21:57.732110Z",
     "shell.execute_reply.started": "2024-02-06T21:21:57.347809Z"
    }
   },
   "outputs": [
    {
     "name": "stdout",
     "output_type": "stream",
     "text": [
      "+-------+----+----------+-----------+-----------+---------+--------+--------+----------+----+-------+-------+---------+-----+----+----+----+----+--------+--------------+\n",
      "|altitud| dir|     fecha|horaPresMax|horaPresMin|horaracha|horatmax|horatmin|indicativo|prec|presMax|presMin|provincia|racha| sol|tmax|tmed|tmin|velmedia|        nombre|\n",
      "+-------+----+----------+-----------+-----------+---------+--------+--------+----------+----+-------+-------+---------+-----+----+----+----+----+--------+--------------+\n",
      "|    667|  32|1952-07-11|         24|         16|    16:45|   13:30|   06:00|      3195|  Ip|  947,8|  944,9|   MADRID| 14,2| 9,2|36,6|29,4|22,3|     3,1|MADRID, RETIRO|\n",
      "|    667|NULL|1943-01-09|         10|         01|     NULL|   13:30|   04:30|      3195| 0,0|  949,4|  946,2|   MADRID| NULL| 9,3|13,0| 9,1| 5,2|     1,4|MADRID, RETIRO|\n",
      "|    667|  32|1952-07-11|         24|         16|    16:45|   13:30|   06:00|      3195|  Ip|  947,8|  944,9|   MADRID| 14,2| 9,2|36,6|29,4|22,3|     3,1|MADRID, RETIRO|\n",
      "|    667|NULL|1943-01-10|         00|         24|     NULL|   18:00|   07:00|      3195| 2,7|  947,4|  936,7|   MADRID| NULL| 4,4| 8,4| 7,1| 5,8|     4,7|MADRID, RETIRO|\n",
      "|    667|  29|1952-07-12|         00|         16|    15:20|   14:00|   05:45|      3195| 0,0|  945,8|  941,9|   MADRID|  8,3|13,3|35,1|27,3|19,5|     1,4|MADRID, RETIRO|\n",
      "|    667|NULL|1943-01-11|         10|         24|     NULL|   13:30|   06:00|      3195| 3,7|  940,3|  931,9|   MADRID| NULL| 0,0| 9,5| 8,2| 7,0|     7,2|MADRID, RETIRO|\n",
      "|    667|  05|1952-07-13|     Varias|         12|    23:20|   15:00|   06:00|      3195| 0,0|  943,7|  939,3|   MADRID| 11,9|14,0|33,6|27,0|20,5|     1,1|MADRID, RETIRO|\n",
      "|    667|NULL|1943-01-12|         23|         04|     NULL|   14:20|  Varias|      3195| 0,0|  941,8|  928,9|   MADRID| NULL| 6,0|11,7| 9,8| 7,8|    10,0|MADRID, RETIRO|\n",
      "|    667|  05|1952-07-14|         00|         15|    18:45|   13:30|   05:45|      3195| 0,0|  940,1|  935,8|   MADRID| 12,8|10,3|32,0|26,1|20,2|     4,2|MADRID, RETIRO|\n",
      "|    667|NULL|1943-01-13|         01|         24|     NULL|   22:20|   05:20|      3195| 3,9|  942,5|  927,7|   MADRID| NULL| 0,0|10,8| 7,4| 4,0|     6,4|MADRID, RETIRO|\n",
      "|    667|  05|1952-07-15|         24|         18|    22:00|   14:30|   05:00|      3195| 0,0|  941,4|  938,6|   MADRID|  8,1|12,6|30,5|24,1|17,7|     2,5|MADRID, RETIRO|\n",
      "|    667|NULL|1943-01-14|         24|         07|     NULL|  Varias|  Varias|      3195| 1,4|  942,6|  931,5|   MADRID| NULL| 7,3|10,2| 8,5| 6,8|     6,9|MADRID, RETIRO|\n",
      "|    667|  18|1952-07-16|     Varias|         18|    14:45|   13:45|   05:15|      3195| 0,0|  941,8|  939,1|   MADRID|  7,2|13,2|32,0|25,4|18,8|     2,2|MADRID, RETIRO|\n",
      "|    667|NULL|1943-01-15|         10|         24|     NULL|   18:00|  Varias|      3195| 0,0|  946,9|  943,3|   MADRID| NULL| 8,7| 9,8| 6,3| 2,8|     1,1|MADRID, RETIRO|\n",
      "|    667|  23|1952-07-17|         08|         17|    16:45|   13:15|   06:00|      3195| 0,0|  941,0|  938,9|   MADRID| 10,0|13,5|30,7|24,6|18,4|     2,8|MADRID, RETIRO|\n",
      "|    667|NULL|1943-01-16|         00|         24|     NULL|   16:30|   01:00|      3195| 1,6|  943,4|  935,7|   MADRID| NULL| 2,7| 7,0| 3,9| 0,8|     3,9|MADRID, RETIRO|\n",
      "|    667|  05|1952-07-18|         08|         18|    22:35|   12:00|   05:00|      3195| 0,0|  942,5|  939,7|   MADRID| 11,4|13,1|30,2|23,9|17,6|     3,1|MADRID, RETIRO|\n",
      "|    667|NULL|1943-01-17|         22|         07|     NULL|   15:20|   04:30|      3195| 2,2|  937,0|  932,5|   MADRID| NULL| 1,0| 9,5| 5,8| 2,2|     6,1|MADRID, RETIRO|\n",
      "|    667|  14|1952-07-19|         07|         18|    16:35|   13:00|   06:30|      3195| 2,5|  943,0|  937,8|   MADRID| 11,1|12,0|32,8|26,1|19,4|     5,0|MADRID, RETIRO|\n",
      "|    667|NULL|1943-01-18|         24|         07|     NULL|   15:00|   07:00|      3195| 0,5|  938,2|  935,9|   MADRID| NULL| 0,3| 8,0| 5,4| 2,8|     1,4|MADRID, RETIRO|\n",
      "+-------+----+----------+-----------+-----------+---------+--------+--------+----------+----+-------+-------+---------+-----+----+----+----+----+--------+--------------+\n",
      "only showing top 20 rows\n",
      "\n"
     ]
    }
   ],
   "source": [
    "df_result = spark.sql(\"\"\"\n",
    "select * from pruebas.datos_aemet where nombre='MADRID, RETIRO'\n",
    "\"\"\").show()"
   ]
  },
  {
   "cell_type": "code",
   "execution_count": 17,
   "id": "cd8affee-a022-41db-81a6-93b7119e7c8b",
   "metadata": {
    "execution": {
     "iopub.execute_input": "2024-02-06T21:22:00.075341Z",
     "iopub.status.busy": "2024-02-06T21:22:00.074032Z",
     "iopub.status.idle": "2024-02-06T21:22:00.371953Z",
     "shell.execute_reply": "2024-02-06T21:22:00.367513Z",
     "shell.execute_reply.started": "2024-02-06T21:22:00.075288Z"
    }
   },
   "outputs": [
    {
     "name": "stdout",
     "output_type": "stream",
     "text": [
      "+-------+----+----------+-----------+-----------+---------+--------+--------+----------+--------------+----+-------+-------+---------+-----+----+----+----+----+--------+\n",
      "|altitud| dir|     fecha|horaPresMax|horaPresMin|horaracha|horatmax|horatmin|indicativo|        nombre|prec|presMax|presMin|provincia|racha| sol|tmax|tmed|tmin|velmedia|\n",
      "+-------+----+----------+-----------+-----------+---------+--------+--------+----------+--------------+----+-------+-------+---------+-----+----+----+----+----+--------+\n",
      "|    667|  18|2010-01-22|         00|         24|    12:50|   12:30|   03:30|      3195|MADRID, RETIRO| 0,0|  945,1|  940,4|   MADRID|  4,2|NULL| 8,4| 5,9| 3,4|     0,8|\n",
      "|    667|  10|2010-01-23|         00|         15|    12:20|  Varias|  Varias|      3195|MADRID, RETIRO| 0,0|  940,4|  938,0|   MADRID|  7,8|NULL|10,8| 8,6| 6,4|     1,4|\n",
      "|    667|NULL|2010-01-24|         23|         02|     NULL|   16:05|   07:30|      3195|MADRID, RETIRO|  Ip|  945,4|  939,5|   MADRID| NULL|NULL|11,5| 8,8| 6,0|    NULL|\n",
      "|    667|  05|2010-01-25|         00|         19|    22:30|   14:30|   23:59|      3195|MADRID, RETIRO| 5,5|  945,1|  939,8|   MADRID| 12,2|NULL| 8,4| 5,2| 2,1|     1,9|\n",
      "|    667|  09|2010-01-26|         11|         05|    05:50|   14:50|  Varias|      3195|MADRID, RETIRO| 0,0|  943,6|  940,3|   MADRID| 16,9|NULL| 8,5| 4,4| 0,3|     5,0|\n",
      "|    667|  08|2010-01-27|         23|         07|    11:20|   14:50|   03:30|      3195|MADRID, RETIRO| 0,1|  944,8|  939,4|   MADRID| 14,4|NULL| 4,3| 2,4| 0,5|     3,9|\n",
      "|    667|  02|2010-01-28|         00|     Varias|    18:30|   16:40|   08:00|      3195|MADRID, RETIRO| 0,0|  944,7|  938,2|   MADRID|  9,7|NULL| 9,4| 3,6|-2,1|     1,9|\n",
      "|    667|  32|2010-01-29|         00|         17|    17:00|  Varias|   06:45|      3195|MADRID, RETIRO| 0,0|  941,0|  928,1|   MADRID| 12,8|NULL|11,6| 5,7|-0,2|     1,9|\n",
      "|    667|  30|2010-01-30|         10|     Varias|    14:30|   14:40|   08:05|      3195|MADRID, RETIRO| 0,0|  932,3|  929,0|   MADRID| 13,1|NULL|10,3| 6,9| 3,5|     3,3|\n",
      "|    667|  32|2010-01-31|         24|         05|    22:50|   13:30|   05:30|      3195|MADRID, RETIRO| 0,0|  935,0|  930,3|   MADRID|  9,4|NULL|10,2| 6,7| 3,2|     2,2|\n",
      "|    667|  07|2010-02-01|         24|         00|    09:20|   13:45|   07:30|      3195|MADRID, RETIRO| 0,0|  945,2|  935,0|   MADRID|  3,9|NULL| 9,7| 6,1| 2,5|     1,9|\n",
      "|    667|  04|2010-02-02|     Varias|         18|    00:50|   15:50|   07:00|      3195|MADRID, RETIRO| 0,0|  946,2|  943,6|   MADRID|  5,8|NULL| 9,5| 4,8| 0,2|     0,6|\n",
      "|    667|  05|2010-02-03|         00|         24|    07:05|   16:00|   07:55|      3195|MADRID, RETIRO| 0,8|  943,8|  935,9|   MADRID|  5,8|NULL|12,6| 6,7| 0,8|     1,4|\n",
      "|    667|  25|2010-02-04|         00|         05|    23:50|  Varias|   06:50|      3195|MADRID, RETIRO| 3,6|  935,9|  933,6|   MADRID| 14,2|NULL| 9,6| 7,9| 6,2|     1,1|\n",
      "|    667|  27|2010-02-05|         24|         00|    00:50|   15:30|  Varias|      3195|MADRID, RETIRO| 0,0|  944,6|  935,3|   MADRID| 14,7|NULL|12,4| 9,7| 7,0|     3,1|\n",
      "|    667|  29|2010-02-06|         02|         24|    13:10|   12:40|  Varias|      3195|MADRID, RETIRO| 0,0|  945,0|  942,6|   MADRID| 12,5|NULL|14,0| 9,6| 5,2|     3,3|\n",
      "|    667|  21|2010-02-07|         00|         24|    17:40|  Varias|   07:15|      3195|MADRID, RETIRO| 0,4|  942,6|  933,0|   MADRID|  4,7|NULL|11,4| 7,6| 3,8|     1,4|\n",
      "|    667|  21|2010-02-07|         00|         24|    17:40|  Varias|   07:15|      3195|MADRID, RETIRO| 0,4|  942,6|  933,0|   MADRID|  4,7|NULL|11,4| 7,6| 3,8|     1,4|\n",
      "|    667|  27|2010-02-08|         00|         22|    17:30|   15:10|   04:30|      3195|MADRID, RETIRO| 4,8|  933,0|  922,4|   MADRID|  8,3|NULL|11,4| 9,2| 7,0|     1,9|\n",
      "|    667|NULL|2010-02-09|         24|         00|     NULL|   13:15|   23:59|      3195|MADRID, RETIRO| 0,0|  930,3|  922,7|   MADRID| NULL|NULL|11,6| 7,6| 3,7|    NULL|\n",
      "+-------+----+----------+-----------+-----------+---------+--------+--------+----------+--------------+----+-------+-------+---------+-----+----+----+----+----+--------+\n",
      "only showing top 20 rows\n",
      "\n"
     ]
    }
   ],
   "source": [
    "df_result2 = spark.sql(\"\"\"\n",
    "select * from pruebas.datos_aemet_bis where nombre='MADRID, RETIRO'\n",
    "\"\"\").show()"
   ]
  },
  {
   "cell_type": "code",
   "execution_count": null,
   "id": "62ece3ec-aeea-4e4b-a87e-8a04524c9e98",
   "metadata": {},
   "outputs": [],
   "source": []
  }
 ],
 "metadata": {
  "kernelspec": {
   "display_name": "Python 3 (ipykernel)",
   "language": "python",
   "name": "python3"
  },
  "language_info": {
   "codemirror_mode": {
    "name": "ipython",
    "version": 3
   },
   "file_extension": ".py",
   "mimetype": "text/x-python",
   "name": "python",
   "nbconvert_exporter": "python",
   "pygments_lexer": "ipython3",
   "version": "3.11.6"
  }
 },
 "nbformat": 4,
 "nbformat_minor": 5
}
