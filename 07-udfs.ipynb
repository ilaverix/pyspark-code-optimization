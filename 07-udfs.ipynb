{
 "cells": [
  {
   "cell_type": "code",
   "execution_count": 1,
   "id": "dfb68b5c-90b0-486b-9435-f87d1455b466",
   "metadata": {
    "execution": {
     "iopub.execute_input": "2024-02-06T21:58:20.008648Z",
     "iopub.status.busy": "2024-02-06T21:58:20.007288Z",
     "iopub.status.idle": "2024-02-06T21:58:25.767515Z",
     "shell.execute_reply": "2024-02-06T21:58:25.766068Z",
     "shell.execute_reply.started": "2024-02-06T21:58:20.008585Z"
    }
   },
   "outputs": [],
   "source": [
    "from pyspark import SparkContext,SparkConf\n",
    "# Start the spark context using the SparkConf object named `conf` the extension created in your kernel.\n",
    "#conf = SparkConf()\n",
    "sc=SparkContext.getOrCreate(conf=conf)"
   ]
  },
  {
   "cell_type": "code",
   "execution_count": 2,
   "id": "20e771ff-13ca-4571-b5a8-095791573909",
   "metadata": {
    "execution": {
     "iopub.execute_input": "2024-02-06T21:58:25.771511Z",
     "iopub.status.busy": "2024-02-06T21:58:25.771045Z",
     "iopub.status.idle": "2024-02-06T21:58:26.079015Z",
     "shell.execute_reply": "2024-02-06T21:58:26.077576Z",
     "shell.execute_reply.started": "2024-02-06T21:58:25.771471Z"
    }
   },
   "outputs": [],
   "source": [
    "from pyspark.sql import SparkSession\n",
    "\n",
    "spark = SparkSession.builder.getOrCreate()"
   ]
  },
  {
   "cell_type": "code",
   "execution_count": 3,
   "id": "4a418cef-32dc-4eda-b84a-eeca7f29996a",
   "metadata": {
    "execution": {
     "iopub.execute_input": "2024-02-06T21:58:26.082838Z",
     "iopub.status.busy": "2024-02-06T21:58:26.081054Z",
     "iopub.status.idle": "2024-02-06T21:59:46.410928Z",
     "shell.execute_reply": "2024-02-06T21:59:46.409430Z",
     "shell.execute_reply.started": "2024-02-06T21:58:26.082778Z"
    }
   },
   "outputs": [],
   "source": [
    "df_json=spark.read.format(\"json\").load(\"/home/jovyan/data/datos.json\")"
   ]
  },
  {
   "cell_type": "code",
   "execution_count": 4,
   "id": "7aed13fd-7b01-4153-8723-891353f03b7b",
   "metadata": {
    "execution": {
     "iopub.execute_input": "2024-02-06T21:59:46.413042Z",
     "iopub.status.busy": "2024-02-06T21:59:46.412669Z",
     "iopub.status.idle": "2024-02-06T22:01:38.226621Z",
     "shell.execute_reply": "2024-02-06T22:01:38.223137Z",
     "shell.execute_reply.started": "2024-02-06T21:59:46.413002Z"
    }
   },
   "outputs": [
    {
     "name": "stdout",
     "output_type": "stream",
     "text": [
      "104979\n",
      "0:01:51.787083\n"
     ]
    }
   ],
   "source": [
    "# A evitar\n",
    "import datetime\n",
    "inicio = datetime.datetime.now()\n",
    "lista_filtrada = []\n",
    "for elemento in df_json.select(\"provincia\").collect():\n",
    "    if elemento[\"provincia\"]==\"TOLEDO\":\n",
    "        lista_filtrada.append(elemento)\n",
    "print(len(lista_filtrada))\n",
    "fin=datetime.datetime.now()\n",
    "print((fin-inicio))"
   ]
  },
  {
   "cell_type": "code",
   "execution_count": 13,
   "id": "0f0135ce-cf1b-4643-8f98-ead9b106f4b8",
   "metadata": {
    "execution": {
     "iopub.execute_input": "2024-02-06T22:10:05.380086Z",
     "iopub.status.busy": "2024-02-06T22:10:05.379470Z",
     "iopub.status.idle": "2024-02-06T22:11:18.055814Z",
     "shell.execute_reply": "2024-02-06T22:11:18.053654Z",
     "shell.execute_reply.started": "2024-02-06T22:10:05.380054Z"
    }
   },
   "outputs": [
    {
     "name": "stdout",
     "output_type": "stream",
     "text": [
      "104979\n",
      "0:01:12.666229\n"
     ]
    }
   ],
   "source": [
    "# forma optima\n",
    "import datetime\n",
    "from pyspark.sql.functions import filter\n",
    "inicio = datetime.datetime.now()\n",
    "lista_filtrada_bien = df_json.filter(df_json.provincia == \"TOLEDO\").select(\"provincia\").collect()\n",
    "print(len(lista_filtrada_bien))\n",
    "fin=datetime.datetime.now()\n",
    "print((fin-inicio))"
   ]
  },
  {
   "cell_type": "code",
   "execution_count": null,
   "id": "74895971-2fe0-442f-920c-938b284509fd",
   "metadata": {},
   "outputs": [],
   "source": [
    "#A evitar\n",
    "lista_filtrada = []\n",
    "for elemento in lista.collect():\n",
    "    if elemento[\"numero\"] > 10:\n",
    "        lista_filtrada.append(elemento)\n",
    "\n",
    "#Forma óptima\n",
    "lista_filtrada = lista.filter(lista.numero > 10).select(*).collect()"
   ]
  }
 ],
 "metadata": {
  "kernelspec": {
   "display_name": "Python 3 (ipykernel)",
   "language": "python",
   "name": "python3"
  },
  "language_info": {
   "codemirror_mode": {
    "name": "ipython",
    "version": 3
   },
   "file_extension": ".py",
   "mimetype": "text/x-python",
   "name": "python",
   "nbconvert_exporter": "python",
   "pygments_lexer": "ipython3",
   "version": "3.11.6"
  }
 },
 "nbformat": 4,
 "nbformat_minor": 5
}
