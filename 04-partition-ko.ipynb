{
 "cells": [
  {
   "cell_type": "code",
   "execution_count": 1,
   "id": "dfb68b5c-90b0-486b-9435-f87d1455b466",
   "metadata": {
    "execution": {
     "iopub.execute_input": "2024-02-06T22:23:46.487469Z",
     "iopub.status.busy": "2024-02-06T22:23:46.485744Z",
     "iopub.status.idle": "2024-02-06T22:23:52.982645Z",
     "shell.execute_reply": "2024-02-06T22:23:52.981188Z",
     "shell.execute_reply.started": "2024-02-06T22:23:46.487379Z"
    }
   },
   "outputs": [],
   "source": [
    "from pyspark import SparkContext,SparkConf\n",
    "# Start the spark context using the SparkConf object named `conf` the extension created in your kernel.\n",
    "#conf = SparkConf()\n",
    "sc=SparkContext.getOrCreate(conf=conf)"
   ]
  },
  {
   "cell_type": "code",
   "execution_count": 2,
   "id": "20e771ff-13ca-4571-b5a8-095791573909",
   "metadata": {
    "execution": {
     "iopub.execute_input": "2024-02-06T22:23:52.988658Z",
     "iopub.status.busy": "2024-02-06T22:23:52.987818Z",
     "iopub.status.idle": "2024-02-06T22:23:53.275597Z",
     "shell.execute_reply": "2024-02-06T22:23:53.273987Z",
     "shell.execute_reply.started": "2024-02-06T22:23:52.988611Z"
    }
   },
   "outputs": [],
   "source": [
    "from pyspark.sql import SparkSession\n",
    "\n",
    "spark = SparkSession.builder.getOrCreate()"
   ]
  },
  {
   "cell_type": "code",
   "execution_count": 3,
   "id": "4a418cef-32dc-4eda-b84a-eeca7f29996a",
   "metadata": {
    "execution": {
     "iopub.execute_input": "2024-02-06T22:23:53.278971Z",
     "iopub.status.busy": "2024-02-06T22:23:53.277857Z",
     "iopub.status.idle": "2024-02-06T22:25:32.581753Z",
     "shell.execute_reply": "2024-02-06T22:25:32.579653Z",
     "shell.execute_reply.started": "2024-02-06T22:23:53.278814Z"
    }
   },
   "outputs": [],
   "source": [
    "df_json=spark.read.format(\"json\").load(\"/home/jovyan/data/datos.json\")"
   ]
  },
  {
   "cell_type": "code",
   "execution_count": 4,
   "id": "7aed13fd-7b01-4153-8723-891353f03b7b",
   "metadata": {
    "execution": {
     "iopub.execute_input": "2024-02-06T22:25:32.589235Z",
     "iopub.status.busy": "2024-02-06T22:25:32.588011Z",
     "iopub.status.idle": "2024-02-06T22:25:33.782525Z",
     "shell.execute_reply": "2024-02-06T22:25:33.780333Z",
     "shell.execute_reply.started": "2024-02-06T22:25:32.589170Z"
    }
   },
   "outputs": [
    {
     "name": "stdout",
     "output_type": "stream",
     "text": [
      "+-------+----+----------+-----------+-----------+---------+--------+--------+----------+--------------------+----+-------+-------+--------------------+-----+----+----+----+----+--------+\n",
      "|altitud| dir|     fecha|horaPresMax|horaPresMin|horaracha|horatmax|horatmin|indicativo|              nombre|prec|presMax|presMin|           provincia|racha| sol|tmax|tmed|tmin|velmedia|\n",
      "+-------+----+----------+-----------+-----------+---------+--------+--------+----------+--------------------+----+-------+-------+--------------------+-----+----+----+----+----+--------+\n",
      "|    540|NULL|1920-01-01|       NULL|       NULL|     NULL|    NULL|    NULL|      3259|   TOLEDO, LORENZANA| 0,5|   NULL|   NULL|              TOLEDO| NULL|NULL|14,0|12,0|10,0|    NULL|\n",
      "|     50|NULL|1920-01-01|       NULL|       NULL|     NULL|   13:53|   07:12|     9981A|ESTACIÓN DE TORTO...| 8,8|   NULL|   NULL|           TARRAGONA| NULL|NULL|16,6|12,3| 8,0|    NULL|\n",
      "|    372|NULL|1920-01-01|       NULL|       NULL|     NULL|    NULL|    NULL|     3365A|TALAVERA DE LA REINA|NULL|   NULL|   NULL|              TOLEDO| NULL|NULL|14,0|12,2|10,5|    NULL|\n",
      "|    779|NULL|1920-01-01|       NULL|       NULL|     NULL|    NULL|    NULL|      9390|              DAROCA| 1,8|   NULL|   NULL|            ZARAGOZA| NULL|NULL|12,4|10,2| 8,0|    NULL|\n",
      "|    459|NULL|1920-01-01|       NULL|       NULL|     NULL|    NULL|    NULL|      3469|     CÁCERES, CIUDAD| 9,0|   NULL|   NULL|             CACERES| NULL|NULL|13,0|10,7| 8,4|    NULL|\n",
      "|    627|NULL|1920-01-01|       NULL|       NULL|     NULL|    NULL|    NULL|     4121C|CIUDAD REAL, INST...| 1,7|   NULL|   NULL|         CIUDAD REAL| NULL|NULL|13,4|10,2| 7,0|    NULL|\n",
      "|     17|NULL|1920-01-01|       NULL|       NULL|     NULL|    NULL|    NULL|      4605|              HUELVA| 2,1|   NULL|   NULL|              HUELVA| NULL|NULL|18,0|12,9| 7,8|    NULL|\n",
      "|     23|NULL|1920-01-01|       NULL|       NULL|     NULL|    NULL|    NULL|      8501|CASTELLÓ DE LA PLANA| 0,0|   NULL|   NULL|           CASTELLON| NULL|NULL|21,7|15,8|10,0|    NULL|\n",
      "|    667|NULL|1920-01-01|         00|         15|     NULL|   10:30|   23:59|      3195|      MADRID, RETIRO| 0,0|  934,6|  925,3|              MADRID| NULL| 3,5|11,9|10,4| 8,8|    NULL|\n",
      "|     95|NULL|1920-01-01|       NULL|       NULL|     NULL|    NULL|    NULL|     0370B|GIRONA, ANTIC INS...| 1,4|   NULL|   NULL|              GIRONA| NULL|NULL|12,2|10,1| 8,0|    NULL|\n",
      "|    408|NULL|1920-01-01|       NULL|       NULL|     NULL|    NULL|    NULL|     0200E|    BARCELONA, FABRA| 3,5|   NULL|   NULL|           BARCELONA| NULL|NULL|NULL|NULL|NULL|    NULL|\n",
      "|   2369|NULL|1920-01-01|       NULL|       NULL|     NULL|   10:00|   23:59|     C430E|               IZAÑA| 0,0|   NULL|   NULL|STA. CRUZ DE TENE...| NULL|10,0|10,7| 7,4| 4,0|     8,9|\n",
      "|    540|NULL|1920-01-02|       NULL|       NULL|     NULL|    NULL|    NULL|      3259|   TOLEDO, LORENZANA| 0,0|   NULL|   NULL|              TOLEDO| NULL|NULL|10,6| 7,8| 5,0|    NULL|\n",
      "|     50|NULL|1920-01-02|       NULL|       NULL|     NULL|   00:03|   22:52|     9981A|ESTACIÓN DE TORTO...| 0,0|   NULL|   NULL|           TARRAGONA| NULL|NULL|12,2| 9,6| 6,9|    NULL|\n",
      "|    372|NULL|1920-01-02|       NULL|       NULL|     NULL|    NULL|    NULL|     3365A|TALAVERA DE LA REINA|NULL|   NULL|   NULL|              TOLEDO| NULL|NULL|13,5| 8,0| 2,5|    NULL|\n",
      "|    779|NULL|1920-01-02|       NULL|       NULL|     NULL|    NULL|    NULL|      9390|              DAROCA| 0,0|   NULL|   NULL|            ZARAGOZA| NULL|NULL| 6,4| 4,4| 2,4|    NULL|\n",
      "|    459|NULL|1920-01-02|       NULL|       NULL|     NULL|    NULL|    NULL|      3469|     CÁCERES, CIUDAD| 1,0|   NULL|   NULL|             CACERES| NULL|NULL|10,2| 6,4| 2,6|    NULL|\n",
      "|    627|NULL|1920-01-02|       NULL|       NULL|     NULL|    NULL|    NULL|     4121C|CIUDAD REAL, INST...| 1,8|   NULL|   NULL|         CIUDAD REAL| NULL|NULL| 8,8| 5,0| 1,2|    NULL|\n",
      "|     17|NULL|1920-01-02|       NULL|       NULL|     NULL|    NULL|    NULL|      4605|              HUELVA| 0,0|   NULL|   NULL|              HUELVA| NULL|NULL|15,5|11,8| 8,0|    NULL|\n",
      "|     23|NULL|1920-01-02|       NULL|       NULL|     NULL|    NULL|    NULL|      8501|CASTELLÓ DE LA PLANA| 0,0|   NULL|   NULL|           CASTELLON| NULL|NULL|20,4|12,7| 5,0|    NULL|\n",
      "+-------+----+----------+-----------+-----------+---------+--------+--------+----------+--------------------+----+-------+-------+--------------------+-----+----+----+----+----+--------+\n",
      "only showing top 20 rows\n",
      "\n"
     ]
    }
   ],
   "source": [
    "df_json.show()"
   ]
  },
  {
   "cell_type": "code",
   "execution_count": null,
   "id": "cba730d2-7071-4e51-acfd-19938c6e1b4b",
   "metadata": {},
   "outputs": [],
   "source": [
    "result = df_json.groupBy(\"nombre\").count()"
   ]
  },
  {
   "cell_type": "code",
   "execution_count": null,
   "id": "090aca47-fdb4-429e-b7f5-763e3faea630",
   "metadata": {},
   "outputs": [],
   "source": [
    "result.show()"
   ]
  }
 ],
 "metadata": {
  "kernelspec": {
   "display_name": "Python 3 (ipykernel)",
   "language": "python",
   "name": "python3"
  },
  "language_info": {
   "codemirror_mode": {
    "name": "ipython",
    "version": 3
   },
   "file_extension": ".py",
   "mimetype": "text/x-python",
   "name": "python",
   "nbconvert_exporter": "python",
   "pygments_lexer": "ipython3",
   "version": "3.11.6"
  }
 },
 "nbformat": 4,
 "nbformat_minor": 5
}
